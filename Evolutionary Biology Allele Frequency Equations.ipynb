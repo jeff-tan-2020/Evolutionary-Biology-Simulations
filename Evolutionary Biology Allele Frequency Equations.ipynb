{
 "cells": [
  {
   "cell_type": "markdown",
   "metadata": {},
   "source": [
    "# Calculating predicted allele frequency"
   ]
  },
  {
   "cell_type": "code",
   "execution_count": 1,
   "metadata": {},
   "outputs": [],
   "source": [
    "def p_allele(p_a, W_AA, W_Aa, W_aa, ngens = 1):\n",
    "    p = [p_a]\n",
    "    for i in range(ngens):\n",
    "        p0 = p[i]\n",
    "        p1 = 1 - p0\n",
    "        \n",
    "        p_prime = (p0**2 * W_aa + p0*p1*W_Aa)/(p0**2 * W_aa + 2*p0*p1*W_Aa + p1**2 * W_AA)\n",
    "        p.append(p_prime)\n",
    "    return p[ngens]"
   ]
  },
  {
   "cell_type": "code",
   "execution_count": 2,
   "metadata": {},
   "outputs": [],
   "source": [
    "p_allele(0.05, .9, 1, 0.1, 10)"
   ]
  },
  {
   "cell_type": "code",
   "execution_count": 3,
   "metadata": {},
   "outputs": [],
   "source": [
    "def fst(p1, p2):\n",
    "    p_bar = (p1+p2)/2\n",
    "    p1_p = (p1*(1-p1) + p2*(1-p2))/2\n",
    "    \n",
    "    fst = (p_bar*(1-p_bar)-p1_p)/(p_bar*(1-p_bar))\n",
    "    return fst"
   ]
  },
  {
   "cell_type": "code",
   "execution_count": 4,
   "metadata": {},
   "outputs": [],
   "source": [
    "fst(0.4, 0.6)"
   ]
  },
  {
   "cell_type": "code",
   "execution_count": 5,
   "metadata": {},
   "outputs": [],
   "source": [
    "def p_heterozygote(a = True, W_AA, W_Aa, W_aa):\n",
    "    s1 = W_Aa - "
   ]
  },
  {
   "cell_type": "markdown",
   "metadata": {},
   "source": [
    "# Natural Selection Recursion Equation"
   ]
  },
  {
   "cell_type": "code",
   "execution_count": 6,
   "metadata": {},
   "outputs": [],
   "source": [
    "def p_allele_recursion(p_a, W_AA, W_Aa, W_aa, ngens = 100):\n",
    "    p = [p_a]\n",
    "    for i in range(ngens):\n",
    "        p0 = p[i]\n",
    "        p1 = 1 - p0\n",
    "        \n",
    "        p_prime = (p0**2 * W_aa + p0*p1*W_Aa)/(p0**2 * W_aa + 2*p0*p1*W_Aa + p1**2 * W_AA)\n",
    "        p.append(p_prime)\n",
    "    return p"
   ]
  },
  {
   "cell_type": "code",
   "execution_count": 7,
   "metadata": {},
   "outputs": [
    {
     "data": {
      "text/plain": [
       "(0.0, 1.0)"
      ]
     },
     "execution_count": 7,
     "metadata": {},
     "output_type": "execute_result"
    },
    {
     "data": {
      "image/png": "[encoded data removed]",
      "text/plain": [
       "<Figure size 432x288 with 1 Axes>"
      ]
     },
     "metadata": {
      "needs_background": "light"
     },
     "output_type": "display_data"
    }
   ],
   "source": [
    "from matplotlib import pyplot as plt\n",
    "plt.plot(p_allele_recursion(0.001, 0.80, 1, 0))\n",
    "plt.ylim(0,1)"
   ]
  },
  {
   "cell_type": "markdown",
   "metadata": {},
   "source": [
    "# Simulating Natural Selection & Genetic Drift "
   ]
  },
  {
   "cell_type": "code",
   "execution_count": 26,
   "metadata": {},
   "outputs": [
    {
     "data": {
      "text/plain": [
       "0"
      ]
     },
     "execution_count": 26,
     "metadata": {},
     "output_type": "execute_result"
    }
   ],
   "source": [
    "order = np.random.randint(2)"
   ]
  },
  {
   "cell_type": "code",
   "execution_count": 96,
   "metadata": {},
   "outputs": [],
   "source": [
    "import random\n",
    "import numpy as np\n",
    "def combine_ns_gd(p_a, W_AA, W_Aa, W_aa, N, ngens = 100): \n",
    "    p = [p_a]\n",
    "    total_alleles = 2*N \n",
    "    order = np.random.randint(2, size = ngens)\n",
    "    for i in range(ngens):\n",
    "        if order[i] == 0:\n",
    "            p0 = p[i]\n",
    "            p1 = 1 - p0\n",
    "            p_prime = (p0**2 * W_aa + p0*p1*W_Aa)/(p0**2 * W_aa + 2*p0*p1*W_Aa + p1**2 * W_AA)\n",
    "            a_alleles = np.random.binomial(total_alleles, p_prime)\n",
    "            p_prime = a_alleles/total_alleles\n",
    "            p.append(p_prime)     \n",
    "        else:\n",
    "            a_alleles = np.random.binomial(total_alleles, p[i])\n",
    "            p0 = a_alleles/total_alleles\n",
    "            p1 = 1-p0\n",
    "            p_prime = (p0**2 * W_aa + p0*p1*W_Aa)/(p0**2 * W_aa + 2*p0*p1*W_Aa + p1**2 * W_AA)\n",
    "            p.append(p_prime) \n",
    "    return p"
   ]
  },
  {
   "cell_type": "code",
   "execution_count": 101,
   "metadata": {},
   "outputs": [
    {
     "data": {
      "text/plain": [
       "0.9985"
      ]
     },
     "execution_count": 101,
     "metadata": {},
     "output_type": "execute_result"
    }
   ],
   "source": [
    "count = 0\n",
    "for i in range(10000):\n",
    "    p = combine_ns_gd(0.00005, 0.98, 0.99, 1, 500)\n",
    "    if(p[100] == 0):\n",
    "        count = count + 1\n",
    "\n",
    "count/10000\n"
   ]
  },
  {
   "cell_type": "markdown",
   "metadata": {},
   "source": [
    "## Natural Selection Beneficial allele"
   ]
  },
  {
   "cell_type": "code",
   "execution_count": null,
   "metadata": {},
   "outputs": [],
   "source": [
    "plt.plot(p_allele_recursion(0.1, 0.3, .7, .9))"
   ]
  },
  {
   "cell_type": "markdown",
   "metadata": {},
   "source": [
    "# Simulating gene flow and natural selection"
   ]
  },
  {
   "cell_type": "code",
   "execution_count": 102,
   "metadata": {},
   "outputs": [],
   "source": [
    "def p_allele_recursion_migration(m1, m2, p_a, W_AA1, W_Aa1, W_aa1, q_a, W_AA2, W_Aa2, W_aa2, ngens = 100):\n",
    "    p = [p_a]\n",
    "    q = [q_a]\n",
    "    \n",
    "    for i in range(ngens):\n",
    "        pa = p[i]\n",
    "        pA = 1 - pa\n",
    "        \n",
    "        qa = q[i]\n",
    "        qA = 1 - qa\n",
    "        \n",
    "        p_prime = ((1-m1)*(pa**2 * W_aa1 + pa*pA*W_Aa1)/(pa**2 * W_aa1 + 2*pa*pA*W_Aa1 + pA**2 * W_AA1)) + m1*qa\n",
    "        q_prime = ((1-m2)*(qa**2 * W_aa2 + qa*qA*W_Aa2)/(qa**2 * W_aa2 + 2*qa*qA*W_Aa2 + qA**2 * W_AA2)) + m2*pa\n",
    "        p.append(p_prime)\n",
    "        q.append(q_prime)\n",
    "    return [p,q]"
   ]
  },
  {
   "cell_type": "code",
   "execution_count": 103,
   "metadata": {},
   "outputs": [
    {
     "data": {
      "text/plain": [
       "[<matplotlib.lines.Line2D at 0x266a23fb880>]"
      ]
     },
     "execution_count": 103,
     "metadata": {},
     "output_type": "execute_result"
    },
    {
     "data": {
      "image/png": "[encoded data removed]",
      "text/plain": [
       "<Figure size 432x288 with 1 Axes>"
      ]
     },
     "metadata": {
      "needs_background": "light"
     },
     "output_type": "display_data"
    }
   ],
   "source": [
    "sim = p_allele_recursion_migration(0.1,0.3, 1, 1.1, 1, 0.9, 0, 0.9, 1, 1.1)\n",
    "plt.plot(sim[0])\n",
    "plt.plot(sim[1])"
   ]
  },
  {
   "cell_type": "code",
   "execution_count": null,
   "metadata": {},
   "outputs": [],
   "source": []
  }
 ],
 "metadata": {
  "kernelspec": {
   "display_name": "Python 3",
   "language": "python",
   "name": "python3"
  },
  "language_info": {
   "codemirror_mode": {
    "name": "ipython",
    "version": 3
   },
   "file_extension": ".py",
   "mimetype": "text/x-python",
   "name": "python",
   "nbconvert_exporter": "python",
   "pygments_lexer": "ipython3",
   "version": "3.8.5"
  }
 },
 "nbformat": 4,
 "nbformat_minor": 4
}
